{
 "cells": [
  {
   "cell_type": "markdown",
   "id": "c4833a50",
   "metadata": {},
   "source": [
    "## Lambda"
   ]
  },
  {
   "cell_type": "markdown",
   "id": "0951a1b9",
   "metadata": {},
   "source": [
    "lambda function can take any number of arguments, but can only have one.\n",
    "\n",
    "**Syntax** lambda arguments : expression"
   ]
  },
  {
   "cell_type": "code",
   "execution_count": 16,
   "id": "d3ecc8a8",
   "metadata": {},
   "outputs": [],
   "source": [
    "def square(n):\n",
    "    return n*n\n",
    "def evens(n):\n",
    "    return n%2==0"
   ]
  },
  {
   "cell_type": "code",
   "execution_count": 13,
   "id": "d7f188c1",
   "metadata": {},
   "outputs": [
    {
     "name": "stdout",
     "output_type": "stream",
     "text": [
      "25\n"
     ]
    }
   ],
   "source": [
    "print(square(5))"
   ]
  },
  {
   "cell_type": "code",
   "execution_count": 24,
   "id": "72f2d397",
   "metadata": {},
   "outputs": [
    {
     "name": "stdout",
     "output_type": "stream",
     "text": [
      "Sqaure 25\n"
     ]
    }
   ],
   "source": [
    "f = lambda x:x*x\n",
    "print('Sqaure ' + str(f(5)))"
   ]
  },
  {
   "cell_type": "code",
   "execution_count": 56,
   "id": "487ef254",
   "metadata": {},
   "outputs": [
    {
     "name": "stdout",
     "output_type": "stream",
     "text": [
      "False\n"
     ]
    }
   ],
   "source": [
    "# Example of lambda function using if-else\n",
    "evens1 = lambda x: True if x % 2 == 0 else False\n",
    "print(evens1(5))"
   ]
  },
  {
   "cell_type": "markdown",
   "id": "6a99a156",
   "metadata": {},
   "source": [
    "**map() function** returns a map object(which is an iterator) of the results after **applying the given function to each item of a given iterable** (list, tuple etc.)\n",
    "\n",
    "**Syntax :**\n",
    "map(fun, iter)"
   ]
  },
  {
   "cell_type": "code",
   "execution_count": 34,
   "id": "56301ddb",
   "metadata": {},
   "outputs": [
    {
     "name": "stdout",
     "output_type": "stream",
     "text": [
      "[1, 4, 9, 16, 25, 36, 49, 64, 81, 100]\n"
     ]
    }
   ],
   "source": [
    "data = [1,2,3,4,5,6,7,8,9,10]\n",
    "sqr = list(map (lambda x:x*x,data))\n",
    "print(sqr)"
   ]
  },
  {
   "cell_type": "markdown",
   "id": "133a1dae",
   "metadata": {},
   "source": [
    "The **filter() function** extracts elements from an iterable (list, tuple etc.) for which a function returns True.\n",
    "\n",
    "**Syntax**:filter(function, iterable)\n"
   ]
  },
  {
   "cell_type": "code",
   "execution_count": 45,
   "id": "b44aeb9a",
   "metadata": {},
   "outputs": [
    {
     "name": "stdout",
     "output_type": "stream",
     "text": [
      "[2, 4, 6, 8, 10]\n"
     ]
    }
   ],
   "source": [
    "data = [1,2,3,4,5,6,7,8,9,10]\n",
    "evens = list(filter(lambda x:x%2==0,data))\n",
    "print(evens)"
   ]
  },
  {
   "cell_type": "markdown",
   "id": "79813d38",
   "metadata": {},
   "source": [
    "**reduce() function**  applies a function of two arguments cumulatively to the elements of an iterable, optionally starting with an initial argument. \n",
    "\n",
    "**Syntax:** reduce(func, iterable[, initial])\n",
    "\n",
    "**initial is the optional value** that gets placed before the elements of the iterable in the calculation, and serves as a default when the iterable is empty"
   ]
  },
  {
   "cell_type": "code",
   "execution_count": 47,
   "id": "13ab60d2",
   "metadata": {},
   "outputs": [
    {
     "name": "stdout",
     "output_type": "stream",
     "text": [
      "55\n",
      "5\n"
     ]
    }
   ],
   "source": [
    "from functools import reduce\n",
    "data = [1,2,3,4,5,6,7,8,9,10]\n",
    "sums = reduce(lambda x,y:x+y,data)\n",
    "print(sums)\n",
    "#reduce with intial parameter\n",
    "data=[]\n",
    "sums_intial = reduce(lambda x,y:x+y,data,5)\n",
    "print(sums_intial)"
   ]
  },
  {
   "cell_type": "code",
   "execution_count": null,
   "id": "e8d1450f",
   "metadata": {},
   "outputs": [],
   "source": []
  },
  {
   "cell_type": "code",
   "execution_count": null,
   "id": "e4414638",
   "metadata": {},
   "outputs": [],
   "source": []
  },
  {
   "cell_type": "code",
   "execution_count": null,
   "id": "43a09ee2",
   "metadata": {},
   "outputs": [],
   "source": []
  },
  {
   "cell_type": "code",
   "execution_count": null,
   "id": "8fcfd12e",
   "metadata": {},
   "outputs": [],
   "source": []
  },
  {
   "cell_type": "code",
   "execution_count": null,
   "id": "fa53031a",
   "metadata": {},
   "outputs": [],
   "source": []
  },
  {
   "cell_type": "code",
   "execution_count": null,
   "id": "5a857c9d",
   "metadata": {},
   "outputs": [],
   "source": []
  }
 ],
 "metadata": {
  "kernelspec": {
   "display_name": "Python 3 (ipykernel)",
   "language": "python",
   "name": "python3"
  },
  "language_info": {
   "codemirror_mode": {
    "name": "ipython",
    "version": 3
   },
   "file_extension": ".py",
   "mimetype": "text/x-python",
   "name": "python",
   "nbconvert_exporter": "python",
   "pygments_lexer": "ipython3",
   "version": "3.7.8"
  }
 },
 "nbformat": 4,
 "nbformat_minor": 5
}
