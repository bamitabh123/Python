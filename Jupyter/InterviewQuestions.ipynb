{
 "cells": [
  {
   "cell_type": "markdown",
   "id": "96e00640",
   "metadata": {},
   "source": [
    "<h1>Interview Questions</h1>"
   ]
  },
  {
   "cell_type": "markdown",
   "id": "3b5cf429",
   "metadata": {},
   "source": [
    "<h3>1</h3> Given a list with missing values:\n",
    "\n",
    "L = [10, , 8, -5 , , 20]\n",
    "\n",
    "• select: “-1” for the missing values\n",
    "\n",
    "• with / without loops (desirable with no loops)"
   ]
  },
  {
   "cell_type": "code",
   "execution_count": 59,
   "id": "aa6896b1",
   "metadata": {},
   "outputs": [],
   "source": [
    "#! pip install pandas\n",
    "#! pip install numpy"
   ]
  },
  {
   "cell_type": "code",
   "execution_count": 85,
   "id": "6ead9a10",
   "metadata": {},
   "outputs": [
    {
     "data": {
      "text/html": [
       "<div>\n",
       "<style scoped>\n",
       "    .dataframe tbody tr th:only-of-type {\n",
       "        vertical-align: middle;\n",
       "    }\n",
       "\n",
       "    .dataframe tbody tr th {\n",
       "        vertical-align: top;\n",
       "    }\n",
       "\n",
       "    .dataframe thead th {\n",
       "        text-align: right;\n",
       "    }\n",
       "</style>\n",
       "<table border=\"1\" class=\"dataframe\">\n",
       "  <thead>\n",
       "    <tr style=\"text-align: right;\">\n",
       "      <th></th>\n",
       "      <th>my_list</th>\n",
       "    </tr>\n",
       "  </thead>\n",
       "  <tbody>\n",
       "    <tr>\n",
       "      <th>0</th>\n",
       "      <td>10.0</td>\n",
       "    </tr>\n",
       "    <tr>\n",
       "      <th>1</th>\n",
       "      <td>NaN</td>\n",
       "    </tr>\n",
       "    <tr>\n",
       "      <th>2</th>\n",
       "      <td>8.0</td>\n",
       "    </tr>\n",
       "    <tr>\n",
       "      <th>3</th>\n",
       "      <td>-5.0</td>\n",
       "    </tr>\n",
       "    <tr>\n",
       "      <th>4</th>\n",
       "      <td>NaN</td>\n",
       "    </tr>\n",
       "    <tr>\n",
       "      <th>5</th>\n",
       "      <td>20.0</td>\n",
       "    </tr>\n",
       "  </tbody>\n",
       "</table>\n",
       "</div>"
      ],
      "text/plain": [
       "   my_list\n",
       "0     10.0\n",
       "1      NaN\n",
       "2      8.0\n",
       "3     -5.0\n",
       "4      NaN\n",
       "5     20.0"
      ]
     },
     "execution_count": 85,
     "metadata": {},
     "output_type": "execute_result"
    }
   ],
   "source": [
    "import pandas as pd\n",
    "L=[10,None,8,-5,None,20]\n",
    "df = pd.DataFrame(L, columns = [\"my_list\"])\n",
    "df"
   ]
  },
  {
   "cell_type": "code",
   "execution_count": 77,
   "id": "9c35fe28",
   "metadata": {},
   "outputs": [
    {
     "data": {
      "text/plain": [
       "0    10.0\n",
       "1    -1.0\n",
       "2     8.0\n",
       "3    -5.0\n",
       "4    -1.0\n",
       "5    20.0\n",
       "Name: my_list, dtype: float64"
      ]
     },
     "execution_count": 77,
     "metadata": {},
     "output_type": "execute_result"
    }
   ],
   "source": [
    "df.isnull()"
   ]
  },
  {
   "cell_type": "code",
   "execution_count": 79,
   "id": "fcc68676",
   "metadata": {},
   "outputs": [
    {
     "data": {
      "text/plain": [
       "0    10.0\n",
       "1    -1.0\n",
       "2     8.0\n",
       "3    -5.0\n",
       "4    -1.0\n",
       "5    20.0\n",
       "Name: my_list, dtype: float64"
      ]
     },
     "execution_count": 79,
     "metadata": {},
     "output_type": "execute_result"
    }
   ],
   "source": [
    "#without loop\n",
    "df1 = df.my_list.fillna(-1)\n",
    "df1"
   ]
  },
  {
   "cell_type": "code",
   "execution_count": 108,
   "id": "7f9733af",
   "metadata": {},
   "outputs": [
    {
     "data": {
      "text/plain": [
       "20"
      ]
     },
     "execution_count": 108,
     "metadata": {},
     "output_type": "execute_result"
    }
   ],
   "source": [
    "L\n",
    "range(len(L))\n",
    "L[5]"
   ]
  },
  {
   "cell_type": "code",
   "execution_count": 123,
   "id": "b2a5d65b",
   "metadata": {},
   "outputs": [
    {
     "data": {
      "text/plain": [
       "[10, -1, 8, -5, -1, 20]"
      ]
     },
     "execution_count": 123,
     "metadata": {},
     "output_type": "execute_result"
    }
   ],
   "source": [
    "#with loop\n",
    "for x in range(len(L)):\n",
    "    if L[x]== None:\n",
    "        L[x] = -1       \n",
    "L            "
   ]
  },
  {
   "cell_type": "markdown",
   "id": "d1a0541d",
   "metadata": {},
   "source": [
    "# 2 \n",
    "Write a program that prints the numbers from 1 to 100.\n",
    "\n",
    "• for multiples of three: print “Hello” instead of the number\n",
    "\n",
    "• for the multiples of five: print “World”.\n",
    "\n",
    "• And for numbers multiples of both (three and five): print “Hello World”."
   ]
  },
  {
   "cell_type": "code",
   "execution_count": 41,
   "id": "1a032aea",
   "metadata": {},
   "outputs": [
    {
     "name": "stdout",
     "output_type": "stream",
     "text": [
      "\n",
      "Hello Hello Hello \n",
      "World World World World World \n",
      "Hello Hello Hello Hello Hello Hello \n",
      "Hello Hello Hello Hello Hello Hello Hello Hello Hello \n",
      "World World World World World World World World World World \n",
      "Hello Hello Hello Hello Hello Hello Hello Hello Hello Hello Hello Hello \n",
      "Hello Hello Hello Hello Hello Hello Hello Hello Hello Hello Hello Hello Hello Hello Hello \n",
      "Hello Hello Hello Hello Hello Hello Hello Hello Hello Hello Hello Hello Hello Hello Hello Hello Hello Hello \n",
      "World World World World World World World World World World World World World World World World World World World World \n"
     ]
    }
   ],
   "source": [
    "import numpy as np\n",
    "\n",
    "N=np.arange(0,21,1)\n",
    "\n",
    "N=N.tolist()\n",
    "\n",
    "for num in N: # or for num in range(0,21):\n",
    "    \n",
    "    if num%3 == 0:\n",
    "        print(\"Hello \"*num)\n",
    "    elif num%5 == 0:\n",
    "        print(\"World \"*num)\n",
    "    elif num%5 == 0 or num%3 == 0:\n",
    "        print(\"Hello World \"*num)\n",
    "    \n",
    "    "
   ]
  },
  {
   "cell_type": "markdown",
   "id": "68f09d70",
   "metadata": {},
   "source": [
    "# 4 Select the function that runs faster. (execution).\n",
    "(similar to the exercise of the job interview)\n",
    "not exactly the same"
   ]
  },
  {
   "cell_type": "code",
   "execution_count": 1,
   "id": "089261de",
   "metadata": {},
   "outputs": [
    {
     "name": "stdout",
     "output_type": "stream",
     "text": [
      "1.942883014678955\n",
      "4.098750352859497\n"
     ]
    }
   ],
   "source": [
    "import time\n",
    "\n",
    "def func1():\n",
    "    x = time.time() # before execution\n",
    "    \n",
    "    for i in range(10**8):\n",
    "        pass\n",
    "    \n",
    "    y = time.time() # after execution \n",
    "    print(y-x)\n",
    "\n",
    "import numpy as np\n",
    "    \n",
    "def func2():\n",
    "    x1 = time.time() # before execution\n",
    "    \n",
    "    for i in np.arange(10**8):\n",
    "        pass\n",
    "    \n",
    "    y1 = time.time() # after execution \n",
    "    print(y1-x1)\n",
    "    \n",
    "func1()\n",
    "func2()"
   ]
  },
  {
   "cell_type": "markdown",
   "id": "b25ff03a",
   "metadata": {},
   "source": [
    "# 5 Count number of occurence of element in list\n",
    "Given this list:\n",
    "L = [10,20,20,30,40,40,40,50]\n",
    "\n",
    "• Count the number of occurrences (for all of them)"
   ]
  },
  {
   "cell_type": "code",
   "execution_count": 30,
   "id": "71ad0d06",
   "metadata": {},
   "outputs": [
    {
     "name": "stdout",
     "output_type": "stream",
     "text": [
      "{40: 3, 10: 1, 50: 1, 20: 2, 30: 1}\n"
     ]
    }
   ],
   "source": [
    "L = [10,20,20,30,40,40,40,50]\n",
    "\n",
    "#[1, 2, 3, 4, 1, 4, 1].count(1)\n",
    "#3\n",
    "\n",
    "def num_occ_cnt(num_list):\n",
    "    counts = {}\n",
    "    \n",
    "    for num in set(num_list):   # set to get distinct lsit           \n",
    "        counts[num] = L.count(num)     \n",
    "    return counts\n",
    "\n",
    "print(num_occ_cnt(L))"
   ]
  },
  {
   "cell_type": "code",
   "execution_count": 38,
   "id": "dd924350",
   "metadata": {},
   "outputs": [
    {
     "name": "stdout",
     "output_type": "stream",
     "text": [
      "[[40, 3], [10, 1], [50, 1], [20, 2], [30, 1]]\n",
      "{40: 3, 10: 1, 50: 1, 20: 2, 30: 1}\n"
     ]
    }
   ],
   "source": [
    "#comprehension \n",
    "\n",
    "#using list comprehension \n",
    "print([[x,L.count(x)] for x in set(L)])\n",
    "\n",
    "#using dict comprehension \n",
    "print(dict((x,L.count(x)) for x in set(L)))"
   ]
  },
  {
   "cell_type": "code",
   "execution_count": 47,
   "id": "932cd845",
   "metadata": {},
   "outputs": [
    {
     "data": {
      "text/html": [
       "<div>\n",
       "<style scoped>\n",
       "    .dataframe tbody tr th:only-of-type {\n",
       "        vertical-align: middle;\n",
       "    }\n",
       "\n",
       "    .dataframe tbody tr th {\n",
       "        vertical-align: top;\n",
       "    }\n",
       "\n",
       "    .dataframe thead th {\n",
       "        text-align: right;\n",
       "    }\n",
       "</style>\n",
       "<table border=\"1\" class=\"dataframe\">\n",
       "  <thead>\n",
       "    <tr style=\"text-align: right;\">\n",
       "      <th></th>\n",
       "      <th>Number</th>\n",
       "    </tr>\n",
       "  </thead>\n",
       "  <tbody>\n",
       "    <tr>\n",
       "      <th>0</th>\n",
       "      <td>10</td>\n",
       "    </tr>\n",
       "    <tr>\n",
       "      <th>1</th>\n",
       "      <td>20</td>\n",
       "    </tr>\n",
       "    <tr>\n",
       "      <th>2</th>\n",
       "      <td>20</td>\n",
       "    </tr>\n",
       "    <tr>\n",
       "      <th>3</th>\n",
       "      <td>30</td>\n",
       "    </tr>\n",
       "    <tr>\n",
       "      <th>4</th>\n",
       "      <td>40</td>\n",
       "    </tr>\n",
       "    <tr>\n",
       "      <th>5</th>\n",
       "      <td>40</td>\n",
       "    </tr>\n",
       "    <tr>\n",
       "      <th>6</th>\n",
       "      <td>40</td>\n",
       "    </tr>\n",
       "    <tr>\n",
       "      <th>7</th>\n",
       "      <td>50</td>\n",
       "    </tr>\n",
       "  </tbody>\n",
       "</table>\n",
       "</div>"
      ],
      "text/plain": [
       "   Number\n",
       "0      10\n",
       "1      20\n",
       "2      20\n",
       "3      30\n",
       "4      40\n",
       "5      40\n",
       "6      40\n",
       "7      50"
      ]
     },
     "execution_count": 47,
     "metadata": {},
     "output_type": "execute_result"
    }
   ],
   "source": [
    "#using panda\n",
    "import pandas as pd\n",
    "\n",
    "df = pd.DataFrame(L,columns = [\"Number\"])\n",
    "df"
   ]
  },
  {
   "cell_type": "code",
   "execution_count": null,
   "id": "2e3760ab",
   "metadata": {},
   "outputs": [],
   "source": [
    "df.Number.value_counts()"
   ]
  },
  {
   "cell_type": "code",
   "execution_count": 58,
   "id": "e106d4ec",
   "metadata": {},
   "outputs": [
    {
     "data": {
      "text/html": [
       "<div>\n",
       "<style scoped>\n",
       "    .dataframe tbody tr th:only-of-type {\n",
       "        vertical-align: middle;\n",
       "    }\n",
       "\n",
       "    .dataframe tbody tr th {\n",
       "        vertical-align: top;\n",
       "    }\n",
       "\n",
       "    .dataframe thead th {\n",
       "        text-align: right;\n",
       "    }\n",
       "</style>\n",
       "<table border=\"1\" class=\"dataframe\">\n",
       "  <thead>\n",
       "    <tr style=\"text-align: right;\">\n",
       "      <th></th>\n",
       "      <th>Number</th>\n",
       "      <th>counts</th>\n",
       "    </tr>\n",
       "  </thead>\n",
       "  <tbody>\n",
       "    <tr>\n",
       "      <th>0</th>\n",
       "      <td>10</td>\n",
       "      <td>1</td>\n",
       "    </tr>\n",
       "    <tr>\n",
       "      <th>1</th>\n",
       "      <td>20</td>\n",
       "      <td>2</td>\n",
       "    </tr>\n",
       "    <tr>\n",
       "      <th>2</th>\n",
       "      <td>30</td>\n",
       "      <td>1</td>\n",
       "    </tr>\n",
       "    <tr>\n",
       "      <th>3</th>\n",
       "      <td>40</td>\n",
       "      <td>3</td>\n",
       "    </tr>\n",
       "    <tr>\n",
       "      <th>4</th>\n",
       "      <td>50</td>\n",
       "      <td>1</td>\n",
       "    </tr>\n",
       "  </tbody>\n",
       "</table>\n",
       "</div>"
      ],
      "text/plain": [
       "   Number  counts\n",
       "0      10       1\n",
       "1      20       2\n",
       "2      30       1\n",
       "3      40       3\n",
       "4      50       1"
      ]
     },
     "execution_count": 58,
     "metadata": {},
     "output_type": "execute_result"
    }
   ],
   "source": [
    "df.groupby(['Number']).size().reset_index(name='counts')"
   ]
  },
  {
   "cell_type": "markdown",
   "id": "81803f09",
   "metadata": {},
   "source": [
    "# 6 Given this list:\n",
    "L = [10,20,30,40,50,60]\n",
    "\n",
    "• Use Python to reverse the order of the list."
   ]
  },
  {
   "cell_type": "code",
   "execution_count": null,
   "id": "968105e0",
   "metadata": {},
   "outputs": [],
   "source": []
  },
  {
   "cell_type": "code",
   "execution_count": null,
   "id": "99f8d15e",
   "metadata": {},
   "outputs": [],
   "source": []
  },
  {
   "cell_type": "code",
   "execution_count": null,
   "id": "dbfab876",
   "metadata": {},
   "outputs": [],
   "source": []
  },
  {
   "cell_type": "code",
   "execution_count": null,
   "id": "22d21e8c",
   "metadata": {},
   "outputs": [],
   "source": []
  },
  {
   "cell_type": "markdown",
   "id": "eeccf989",
   "metadata": {},
   "source": [
    "# 7 Given two strings:\n",
    "• S1 = “Hi!”\n",
    "\n",
    "• S2 = “Hello!”\n",
    "\n",
    "Print the common letters"
   ]
  },
  {
   "cell_type": "code",
   "execution_count": null,
   "id": "7029fd07",
   "metadata": {},
   "outputs": [],
   "source": []
  },
  {
   "cell_type": "code",
   "execution_count": null,
   "id": "ec2eab12",
   "metadata": {},
   "outputs": [],
   "source": []
  },
  {
   "cell_type": "code",
   "execution_count": null,
   "id": "bd56dce8",
   "metadata": {},
   "outputs": [],
   "source": []
  },
  {
   "cell_type": "code",
   "execution_count": null,
   "id": "6c6db646",
   "metadata": {},
   "outputs": [],
   "source": []
  },
  {
   "cell_type": "markdown",
   "id": "69979ad3",
   "metadata": {},
   "source": [
    "# 8 Given this list of numbers:\n",
    "• L = [16, 34, 35, 9, 82, 60, 4, 18]\n",
    "\n",
    "Your task is to do the following:\n",
    "\n",
    "• Replace all the numbers that are divisible by 3 with “Hello”\n",
    "\n",
    "• Replace all the numbers divisible by 5 with “World”\n",
    "\n",
    "• Replace all the integers divisible by both 3 and 5 with “Hello World”"
   ]
  },
  {
   "cell_type": "code",
   "execution_count": null,
   "id": "21983f97",
   "metadata": {},
   "outputs": [],
   "source": []
  },
  {
   "cell_type": "code",
   "execution_count": null,
   "id": "8fcbb417",
   "metadata": {},
   "outputs": [],
   "source": []
  },
  {
   "cell_type": "code",
   "execution_count": null,
   "id": "1c80e7ff",
   "metadata": {},
   "outputs": [],
   "source": []
  },
  {
   "cell_type": "code",
   "execution_count": null,
   "id": "4c1c4e5f",
   "metadata": {},
   "outputs": [],
   "source": []
  },
  {
   "cell_type": "markdown",
   "id": "089095a3",
   "metadata": {},
   "source": [
    "# 9 create dict fom lists\n"
   ]
  },
  {
   "cell_type": "code",
   "execution_count": 5,
   "id": "7d801710",
   "metadata": {},
   "outputs": [],
   "source": [
    "objects = ['blue', 'apple', 'dog']\n",
    "categories = ['color', 'fruit', 'pet']\n",
    "a_dict = {key: value for key, value in zip(categories, objects)}"
   ]
  },
  {
   "cell_type": "markdown",
   "id": "df5032b3",
   "metadata": {},
   "source": [
    "# 10 Find second highest from each rows and columns"
   ]
  },
  {
   "cell_type": "code",
   "execution_count": 12,
   "id": "a35e3ba5",
   "metadata": {},
   "outputs": [
    {
     "name": "stdout",
     "output_type": "stream",
     "text": [
      "   A  B  C  D  E\n",
      "0  8  8  3  7  7\n",
      "1  0  4  2  5  2\n",
      "2  2  2  1  0  8\n",
      "3  4  0  9  6  2\n",
      "4  4  1  5  3  4\n"
     ]
    }
   ],
   "source": [
    "\n",
    "import numpy as np\n",
    "import pandas as pd\n",
    "np.random.seed(100)\n",
    "df = pd.DataFrame(np.random.randint(10, size=(5,5)), columns=list('ABCDE'))\n",
    "print(df)"
   ]
  },
  {
   "cell_type": "code",
   "execution_count": 72,
   "id": "bf37a860",
   "metadata": {},
   "outputs": [
    {
     "data": {
      "text/html": [
       "<div>\n",
       "<style scoped>\n",
       "    .dataframe tbody tr th:only-of-type {\n",
       "        vertical-align: middle;\n",
       "    }\n",
       "\n",
       "    .dataframe tbody tr th {\n",
       "        vertical-align: top;\n",
       "    }\n",
       "\n",
       "    .dataframe thead th {\n",
       "        text-align: right;\n",
       "    }\n",
       "</style>\n",
       "<table border=\"1\" class=\"dataframe\">\n",
       "  <thead>\n",
       "    <tr style=\"text-align: right;\">\n",
       "      <th></th>\n",
       "      <th>2nd Largest</th>\n",
       "      <th>Largest</th>\n",
       "    </tr>\n",
       "  </thead>\n",
       "  <tbody>\n",
       "    <tr>\n",
       "      <th>0</th>\n",
       "      <td>8</td>\n",
       "      <td>8</td>\n",
       "    </tr>\n",
       "    <tr>\n",
       "      <th>1</th>\n",
       "      <td>4</td>\n",
       "      <td>5</td>\n",
       "    </tr>\n",
       "    <tr>\n",
       "      <th>2</th>\n",
       "      <td>2</td>\n",
       "      <td>8</td>\n",
       "    </tr>\n",
       "    <tr>\n",
       "      <th>3</th>\n",
       "      <td>6</td>\n",
       "      <td>9</td>\n",
       "    </tr>\n",
       "    <tr>\n",
       "      <th>4</th>\n",
       "      <td>4</td>\n",
       "      <td>5</td>\n",
       "    </tr>\n",
       "  </tbody>\n",
       "</table>\n",
       "</div>"
      ],
      "text/plain": [
       "   2nd Largest  Largest\n",
       "0            8        8\n",
       "1            4        5\n",
       "2            2        8\n",
       "3            6        9\n",
       "4            4        5"
      ]
     },
     "execution_count": 72,
     "metadata": {},
     "output_type": "execute_result"
    }
   ],
   "source": [
    "#first and second largest\n",
    "pd.DataFrame(np.sort(df.values,axis=1)[:,-2:],columns=['2nd Largest','Largest']) "
   ]
  },
  {
   "cell_type": "code",
   "execution_count": 67,
   "id": "934d845e",
   "metadata": {},
   "outputs": [
    {
     "data": {
      "text/html": [
       "<div>\n",
       "<style scoped>\n",
       "    .dataframe tbody tr th:only-of-type {\n",
       "        vertical-align: middle;\n",
       "    }\n",
       "\n",
       "    .dataframe tbody tr th {\n",
       "        vertical-align: top;\n",
       "    }\n",
       "\n",
       "    .dataframe thead th {\n",
       "        text-align: right;\n",
       "    }\n",
       "</style>\n",
       "<table border=\"1\" class=\"dataframe\">\n",
       "  <thead>\n",
       "    <tr style=\"text-align: right;\">\n",
       "      <th></th>\n",
       "      <th>1nd Largest</th>\n",
       "    </tr>\n",
       "  </thead>\n",
       "  <tbody>\n",
       "    <tr>\n",
       "      <th>0</th>\n",
       "      <td>8</td>\n",
       "    </tr>\n",
       "    <tr>\n",
       "      <th>1</th>\n",
       "      <td>5</td>\n",
       "    </tr>\n",
       "    <tr>\n",
       "      <th>2</th>\n",
       "      <td>8</td>\n",
       "    </tr>\n",
       "    <tr>\n",
       "      <th>3</th>\n",
       "      <td>9</td>\n",
       "    </tr>\n",
       "    <tr>\n",
       "      <th>4</th>\n",
       "      <td>5</td>\n",
       "    </tr>\n",
       "  </tbody>\n",
       "</table>\n",
       "</div>"
      ],
      "text/plain": [
       "   1nd Largest\n",
       "0            8\n",
       "1            5\n",
       "2            8\n",
       "3            9\n",
       "4            5"
      ]
     },
     "execution_count": 67,
     "metadata": {},
     "output_type": "execute_result"
    }
   ],
   "source": [
    "pd.DataFrame(np.sort(df.values,axis=1)[:,-1],columns=['1nd Largest']) "
   ]
  },
  {
   "cell_type": "code",
   "execution_count": 19,
   "id": "c48b2a07",
   "metadata": {},
   "outputs": [
    {
     "data": {
      "text/html": [
       "<div>\n",
       "<style scoped>\n",
       "    .dataframe tbody tr th:only-of-type {\n",
       "        vertical-align: middle;\n",
       "    }\n",
       "\n",
       "    .dataframe tbody tr th {\n",
       "        vertical-align: top;\n",
       "    }\n",
       "\n",
       "    .dataframe thead th {\n",
       "        text-align: right;\n",
       "    }\n",
       "</style>\n",
       "<table border=\"1\" class=\"dataframe\">\n",
       "  <thead>\n",
       "    <tr style=\"text-align: right;\">\n",
       "      <th></th>\n",
       "      <th>2nd Lowest</th>\n",
       "    </tr>\n",
       "  </thead>\n",
       "  <tbody>\n",
       "    <tr>\n",
       "      <th>0</th>\n",
       "      <td>7</td>\n",
       "    </tr>\n",
       "    <tr>\n",
       "      <th>1</th>\n",
       "      <td>2</td>\n",
       "    </tr>\n",
       "    <tr>\n",
       "      <th>2</th>\n",
       "      <td>2</td>\n",
       "    </tr>\n",
       "    <tr>\n",
       "      <th>3</th>\n",
       "      <td>4</td>\n",
       "    </tr>\n",
       "    <tr>\n",
       "      <th>4</th>\n",
       "      <td>4</td>\n",
       "    </tr>\n",
       "  </tbody>\n",
       "</table>\n",
       "</div>"
      ],
      "text/plain": [
       "   2nd Lowest\n",
       "0           7\n",
       "1           2\n",
       "2           2\n",
       "3           4\n",
       "4           4"
      ]
     },
     "execution_count": 19,
     "metadata": {},
     "output_type": "execute_result"
    }
   ],
   "source": [
    "pd.DataFrame(np.sort(df.values,axis=1)[:,2],columns=['2nd Lowest']) "
   ]
  },
  {
   "cell_type": "markdown",
   "id": "8337f399",
   "metadata": {},
   "source": [
    "Find second highest from each column???"
   ]
  },
  {
   "cell_type": "code",
   "execution_count": 65,
   "id": "d6355a8e",
   "metadata": {},
   "outputs": [
    {
     "data": {
      "text/html": [
       "<div>\n",
       "<style scoped>\n",
       "    .dataframe tbody tr th:only-of-type {\n",
       "        vertical-align: middle;\n",
       "    }\n",
       "\n",
       "    .dataframe tbody tr th {\n",
       "        vertical-align: top;\n",
       "    }\n",
       "\n",
       "    .dataframe thead th {\n",
       "        text-align: right;\n",
       "    }\n",
       "</style>\n",
       "<table border=\"1\" class=\"dataframe\">\n",
       "  <thead>\n",
       "    <tr style=\"text-align: right;\">\n",
       "      <th></th>\n",
       "      <th>A</th>\n",
       "      <th>B</th>\n",
       "      <th>C</th>\n",
       "      <th>D</th>\n",
       "      <th>E</th>\n",
       "    </tr>\n",
       "  </thead>\n",
       "  <tbody>\n",
       "    <tr>\n",
       "      <th>0</th>\n",
       "      <td>8</td>\n",
       "      <td>8</td>\n",
       "      <td>3</td>\n",
       "      <td>7</td>\n",
       "      <td>7</td>\n",
       "    </tr>\n",
       "  </tbody>\n",
       "</table>\n",
       "</div>"
      ],
      "text/plain": [
       "   A  B  C  D  E\n",
       "0  8  8  3  7  7"
      ]
     },
     "execution_count": 65,
     "metadata": {},
     "output_type": "execute_result"
    }
   ],
   "source": [
    "df.nlargest(1,'A')"
   ]
  },
  {
   "cell_type": "code",
   "execution_count": 59,
   "id": "d3926aed",
   "metadata": {},
   "outputs": [
    {
     "data": {
      "text/html": [
       "<div>\n",
       "<style scoped>\n",
       "    .dataframe tbody tr th:only-of-type {\n",
       "        vertical-align: middle;\n",
       "    }\n",
       "\n",
       "    .dataframe tbody tr th {\n",
       "        vertical-align: top;\n",
       "    }\n",
       "\n",
       "    .dataframe thead th {\n",
       "        text-align: right;\n",
       "    }\n",
       "</style>\n",
       "<table border=\"1\" class=\"dataframe\">\n",
       "  <thead>\n",
       "    <tr style=\"text-align: right;\">\n",
       "      <th></th>\n",
       "      <th>0</th>\n",
       "      <th>1</th>\n",
       "      <th>2</th>\n",
       "      <th>3</th>\n",
       "      <th>4</th>\n",
       "    </tr>\n",
       "  </thead>\n",
       "  <tbody>\n",
       "    <tr>\n",
       "      <th>0</th>\n",
       "      <td>3</td>\n",
       "      <td>7</td>\n",
       "      <td>7</td>\n",
       "      <td>8</td>\n",
       "      <td>8</td>\n",
       "    </tr>\n",
       "    <tr>\n",
       "      <th>1</th>\n",
       "      <td>0</td>\n",
       "      <td>2</td>\n",
       "      <td>2</td>\n",
       "      <td>4</td>\n",
       "      <td>5</td>\n",
       "    </tr>\n",
       "    <tr>\n",
       "      <th>2</th>\n",
       "      <td>0</td>\n",
       "      <td>1</td>\n",
       "      <td>2</td>\n",
       "      <td>2</td>\n",
       "      <td>8</td>\n",
       "    </tr>\n",
       "    <tr>\n",
       "      <th>3</th>\n",
       "      <td>0</td>\n",
       "      <td>2</td>\n",
       "      <td>4</td>\n",
       "      <td>6</td>\n",
       "      <td>9</td>\n",
       "    </tr>\n",
       "    <tr>\n",
       "      <th>4</th>\n",
       "      <td>1</td>\n",
       "      <td>3</td>\n",
       "      <td>4</td>\n",
       "      <td>4</td>\n",
       "      <td>5</td>\n",
       "    </tr>\n",
       "  </tbody>\n",
       "</table>\n",
       "</div>"
      ],
      "text/plain": [
       "   0  1  2  3  4\n",
       "0  3  7  7  8  8\n",
       "1  0  2  2  4  5\n",
       "2  0  1  2  2  8\n",
       "3  0  2  4  6  9\n",
       "4  1  3  4  4  5"
      ]
     },
     "execution_count": 59,
     "metadata": {},
     "output_type": "execute_result"
    }
   ],
   "source": [
    "pd.DataFrame(np.sort(df.values))"
   ]
  },
  {
   "cell_type": "markdown",
   "id": "80f01a23",
   "metadata": {},
   "source": [
    "# Word Count"
   ]
  },
  {
   "cell_type": "code",
   "execution_count": 21,
   "id": "f78932f4",
   "metadata": {},
   "outputs": [
    {
     "name": "stdout",
     "output_type": "stream",
     "text": [
      "{'it': 4, 'was': 4, 'the': 4, 'best': 1, 'of': 4, 'times': 2, 'worst': 1, 'age': 2, 'wisdom': 1, 'foolishness': 1}\n"
     ]
    }
   ],
   "source": [
    "test_str = 'it was the best of times it was the worst of times it was the age of wisdom it was the age of foolishness'\n",
    "def word_cnt(str):\n",
    "    counts ={}\n",
    "    words = str.split ()\n",
    "    \n",
    "    for word in words:\n",
    "        if word in counts:\n",
    "            counts[word] +=1\n",
    "        else:\n",
    "           counts[word] = 1\n",
    "    return counts\n",
    "\n",
    "print(word_cnt(test_str))"
   ]
  },
  {
   "cell_type": "markdown",
   "id": "ae83f284",
   "metadata": {},
   "source": [
    "# 11 print odd number warning\n"
   ]
  },
  {
   "cell_type": "code",
   "execution_count": 125,
   "id": "7dd08c17",
   "metadata": {},
   "outputs": [],
   "source": [
    "li = [2,4,6,8,12,15,16]"
   ]
  },
  {
   "cell_type": "code",
   "execution_count": 128,
   "id": "fdf97ebe",
   "metadata": {},
   "outputs": [
    {
     "name": "stdout",
     "output_type": "stream",
     "text": [
      "15 is Odd number\n"
     ]
    }
   ],
   "source": [
    "for n in li:\n",
    "    if n%2 !=0:\n",
    "        print(str(n) +' is Odd number')"
   ]
  }
 ],
 "metadata": {
  "kernelspec": {
   "display_name": "Python 3 (ipykernel)",
   "language": "python",
   "name": "python3"
  },
  "language_info": {
   "codemirror_mode": {
    "name": "ipython",
    "version": 3
   },
   "file_extension": ".py",
   "mimetype": "text/x-python",
   "name": "python",
   "nbconvert_exporter": "python",
   "pygments_lexer": "ipython3",
   "version": "3.8.10"
  }
 },
 "nbformat": 4,
 "nbformat_minor": 5
}
