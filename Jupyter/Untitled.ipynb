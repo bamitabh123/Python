{
 "cells": [
  {
   "cell_type": "markdown",
   "id": "b93a1280",
   "metadata": {},
   "source": [
    "<h1>Interview Questions</h1>"
   ]
  },
  {
   "cell_type": "markdown",
   "id": "3125a9de",
   "metadata": {},
   "source": [
    "<h3>1</h3> Given a list with missing values:\n",
    "\n",
    "L = [10, , 8, -5 , , 20]\n",
    "\n",
    "• select: “-1” for the missing values\n",
    "\n",
    "• with / without loops (desirable with no loops)"
   ]
  },
  {
   "cell_type": "code",
   "execution_count": null,
   "id": "7ce559ea",
   "metadata": {},
   "outputs": [],
   "source": [
    "l"
   ]
  },
  {
   "cell_type": "code",
   "execution_count": null,
   "id": "905ff920",
   "metadata": {},
   "outputs": [],
   "source": []
  },
  {
   "cell_type": "code",
   "execution_count": null,
   "id": "299e369f",
   "metadata": {},
   "outputs": [],
   "source": []
  },
  {
   "cell_type": "code",
   "execution_count": null,
   "id": "889fb039",
   "metadata": {},
   "outputs": [],
   "source": []
  },
  {
   "cell_type": "code",
   "execution_count": null,
   "id": "29801051",
   "metadata": {},
   "outputs": [],
   "source": []
  }
 ],
 "metadata": {
  "kernelspec": {
   "display_name": "Python 3 (ipykernel)",
   "language": "python",
   "name": "python3"
  },
  "language_info": {
   "codemirror_mode": {
    "name": "ipython",
    "version": 3
   },
   "file_extension": ".py",
   "mimetype": "text/x-python",
   "name": "python",
   "nbconvert_exporter": "python",
   "pygments_lexer": "ipython3",
   "version": "3.7.8"
  }
 },
 "nbformat": 4,
 "nbformat_minor": 5
}
